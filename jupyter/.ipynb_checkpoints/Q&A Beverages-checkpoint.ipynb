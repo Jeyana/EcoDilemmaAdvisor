{
 "cells": [
  {
   "cell_type": "code",
   "execution_count": 2,
   "id": "3d3e3ab3",
   "metadata": {},
   "outputs": [],
   "source": [
    "import matplotlib.pyplot as plt"
   ]
  },
  {
   "cell_type": "markdown",
   "id": "880285bc",
   "metadata": {},
   "source": [
    "# **Q:** Tea or coffee?\n",
    "**SA:** Tea. This is one of the most environmentally friendly drinks. What is crucial in both tea and coffee consumption is the amount of water you boil. If you brew double as much as you consume, the impact of your cup increases by 50%. Thus measuring is essential!<br>\n",
    "**EA:** Another crucial factor is milk. 1 cup of latte has a 14 times higher climate impact than 1 cup of espresso. Adding milk to tea or coffee increases the drink's footprint by four times - in this case cultivating tea or coffee, transporting it (often across the globe) and brewing the drink all together account only for one fourth of the total impact. Milk makes such a drastic difference because cows are a significant source of methane emissions.\n",
    "Switching to plant-based alternatives like oat milk is thus an efficient way to reduce your carbon footprint, along with brewing only as much as you will drink. It is important to note though that consuming enough dairy products every day is still very important. Soy drink does not have the same health effects as dairy, but often contains added vitamin B12 and calcium.<br>\n",
    "**S:**<br>\n",
    "https://www.milieucentraal.nl/eten-en-drinken/drinken/thee/<br>\n",
    "https://www.milieucentraal.nl/eten-en-drinken/drinken/koffie/<br>\n",
    "https://books.google.com.ar/books?id=Pym9DwAAQBAJ"
   ]
  },
  {
   "cell_type": "code",
   "execution_count": 3,
   "id": "82e7425b",
   "metadata": {},
   "outputs": [
    {
     "data": {
      "image/png": "[encoded data removed]",
      "text/plain": [
       "<Figure size 432x288 with 1 Axes>"
      ]
     },
     "metadata": {
      "needs_background": "light"
     },
     "output_type": "display_data"
    }
   ],
   "source": [
    "# grams CO2 equivalent per cup\n",
    "tea_coffee_emissions = {\n",
    "    'black tea': 22,\n",
    "    'black coffee': 71,\n",
    "    'soy milk latte': 308,\n",
    "    'cow milk latte': 552\n",
    "}\n",
    "\n",
    "colors = ['olivedrab', 'steelblue', 'slateblue', 'firebrick']\n",
    "\n",
    "fig, ax = plt.subplots()\n",
    "ax.bar(tea_coffee_emissions.keys(), tea_coffee_emissions.values(), color = colors)\n",
    "ax.set(title = 'CO2e emisions per cup of tea/coffee',\n",
    "      ylabel = 'grams of CO2e')\n",
    "\n",
    "plt.show()"
   ]
  },
  {
   "cell_type": "code",
   "execution_count": null,
   "id": "b8ce7a61",
   "metadata": {},
   "outputs": [],
   "source": []
  }
 ],
 "metadata": {
  "kernelspec": {
   "display_name": "Python 3 (ipykernel)",
   "language": "python",
   "name": "python3"
  },
  "language_info": {
   "codemirror_mode": {
    "name": "ipython",
    "version": 3
   },
   "file_extension": ".py",
   "mimetype": "text/x-python",
   "name": "python",
   "nbconvert_exporter": "python",
   "pygments_lexer": "ipython3",
   "version": "3.9.7"
  }
 },
 "nbformat": 4,
 "nbformat_minor": 5
}
