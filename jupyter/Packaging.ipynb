{
 "cells": [
  {
   "cell_type": "markdown",
   "id": "8f92e488",
   "metadata": {},
   "source": [
    "## Main source: https://zerowasteeurope.eu/wp-content/uploads/2020/12/zwe_reloop_report_reusable-vs-single-use-packaging-a-review-of-environmental-impact_en.pdf.pdf_v2.pdf"
   ]
  },
  {
   "cell_type": "markdown",
   "id": "16909611",
   "metadata": {},
   "source": [
    "**Initial question** (Jeyana): If I use washable plastic containers and bags when shopping (instead of single-use plastics), does it actually help to reduce my impact?<br>\n",
    "**Short answer**: Yes, if you wash them at least 15 times before throwing them away. You'll use more water, but reduce CO2 emissions and the amount of waste (especially if your containers/bags are recyclable and will actually be recycled at the end of use). If possible, go for either 100% cotton or 100% polyester bags. Blended fibers can be recycled, but the process is much more complicated than for single fibre products (https://www.sciencedirect.com/science/article/pii/S0956053X19305100). Read more to examine common scenarios of plastic usage."
   ]
  },
  {
   "cell_type": "code",
   "execution_count": null,
   "id": "3edf3298",
   "metadata": {},
   "outputs": [],
   "source": []
  }
 ],
 "metadata": {
  "kernelspec": {
   "display_name": "Python 3 (ipykernel)",
   "language": "python",
   "name": "python3"
  },
  "language_info": {
   "codemirror_mode": {
    "name": "ipython",
    "version": 3
   },
   "file_extension": ".py",
   "mimetype": "text/x-python",
   "name": "python",
   "nbconvert_exporter": "python",
   "pygments_lexer": "ipython3",
   "version": "3.9.7"
  }
 },
 "nbformat": 4,
 "nbformat_minor": 5
}
