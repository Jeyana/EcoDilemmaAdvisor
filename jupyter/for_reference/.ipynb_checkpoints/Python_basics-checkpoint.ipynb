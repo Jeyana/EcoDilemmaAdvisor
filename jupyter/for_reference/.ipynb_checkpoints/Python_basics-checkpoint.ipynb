{
 "cells": [
  {
   "cell_type": "markdown",
   "id": "5f6fe618",
   "metadata": {},
   "source": [
    "# String"
   ]
  },
  {
   "cell_type": "code",
   "execution_count": 1,
   "id": "8eac9783",
   "metadata": {},
   "outputs": [
    {
     "name": "stdout",
     "output_type": "stream",
     "text": [
      "txet modnar emos\n",
      "oerno et\n"
     ]
    },
    {
     "ename": "TypeError",
     "evalue": "'str' object does not support item assignment",
     "output_type": "error",
     "traceback": [
      "\u001b[1;31m---------------------------------------------------------------------------\u001b[0m",
      "\u001b[1;31mTypeError\u001b[0m                                 Traceback (most recent call last)",
      "\u001b[1;32m~\\AppData\\Local\\Temp/ipykernel_6360/3782974926.py\u001b[0m in \u001b[0;36m<module>\u001b[1;34m\u001b[0m\n\u001b[0;32m      6\u001b[0m \u001b[0mprint\u001b[0m\u001b[1;33m(\u001b[0m\u001b[0mtst\u001b[0m\u001b[1;33m[\u001b[0m\u001b[1;36m1\u001b[0m\u001b[1;33m:\u001b[0m\u001b[1;33m:\u001b[0m\u001b[1;36m2\u001b[0m\u001b[1;33m]\u001b[0m\u001b[1;33m)\u001b[0m \u001b[1;31m#from the second character until the end, every other character\u001b[0m\u001b[1;33m\u001b[0m\u001b[1;33m\u001b[0m\u001b[0m\n\u001b[0;32m      7\u001b[0m \u001b[1;33m\u001b[0m\u001b[0m\n\u001b[1;32m----> 8\u001b[1;33m \u001b[0mtst\u001b[0m\u001b[1;33m[\u001b[0m\u001b[1;36m0\u001b[0m\u001b[1;33m]\u001b[0m \u001b[1;33m=\u001b[0m \u001b[1;34m'b'\u001b[0m \u001b[1;31m#causes error, strings are immutable\u001b[0m\u001b[1;33m\u001b[0m\u001b[1;33m\u001b[0m\u001b[0m\n\u001b[0m",
      "\u001b[1;31mTypeError\u001b[0m: 'str' object does not support item assignment"
     ]
    }
   ],
   "source": [
    "#String slicing\n",
    "\n",
    "tst = 'some random text'\n",
    "print(tst[::-1]) #reverse a string\n",
    "\n",
    "print(tst[1::2]) #from the second character until the end, every other character\n",
    "\n",
    "tst[0] = 'b' #causes error, strings are immutable"
   ]
  },
  {
   "cell_type": "code",
   "execution_count": 2,
   "id": "f8b54c30",
   "metadata": {},
   "outputs": [
    {
     "name": "stdout",
     "output_type": "stream",
     "text": [
      "you can count on me like 1 2 3\n"
     ]
    },
    {
     "ename": "TypeError",
     "evalue": "can only concatenate str (not \"int\") to str",
     "output_type": "error",
     "traceback": [
      "\u001b[1;31m---------------------------------------------------------------------------\u001b[0m",
      "\u001b[1;31mTypeError\u001b[0m                                 Traceback (most recent call last)",
      "\u001b[1;32m~\\AppData\\Local\\Temp/ipykernel_6360/297960615.py\u001b[0m in \u001b[0;36m<module>\u001b[1;34m\u001b[0m\n\u001b[0;32m      7\u001b[0m \u001b[0mprint\u001b[0m\u001b[1;33m(\u001b[0m\u001b[1;34mf'you can count on me like {one} {two} {three}'\u001b[0m\u001b[1;33m)\u001b[0m \u001b[1;31m#no type conversion needed\u001b[0m\u001b[1;33m\u001b[0m\u001b[1;33m\u001b[0m\u001b[0m\n\u001b[0;32m      8\u001b[0m \u001b[1;33m\u001b[0m\u001b[0m\n\u001b[1;32m----> 9\u001b[1;33m \u001b[0mlong_str\u001b[0m \u001b[1;33m=\u001b[0m \u001b[1;34m'something '\u001b[0m \u001b[1;33m+\u001b[0m \u001b[1;36m65\u001b[0m \u001b[1;31m#this won't work though, need to do str(65). And be sure not to create a variable called \"str\"!\u001b[0m\u001b[1;33m\u001b[0m\u001b[1;33m\u001b[0m\u001b[0m\n\u001b[0m\u001b[0;32m     10\u001b[0m \u001b[1;31m#all built-in functions: https://docs.python.org/3/library/functions.html\u001b[0m\u001b[1;33m\u001b[0m\u001b[1;33m\u001b[0m\u001b[0m\n",
      "\u001b[1;31mTypeError\u001b[0m: can only concatenate str (not \"int\") to str"
     ]
    }
   ],
   "source": [
    "#Formatted strings\n",
    "\n",
    "one = 1\n",
    "two = 2\n",
    "three = 3\n",
    "\n",
    "print(f'you can count on me like {one} {two} {three}') #no type conversion needed\n",
    "\n",
    "long_str = 'something ' + 65 #this won't work though, need to do str(65). And be sure not to create a variable called \"str\"!\n",
    "#all built-in functions: https://docs.python.org/3/library/functions.html"
   ]
  },
  {
   "cell_type": "code",
   "execution_count": 3,
   "id": "3d6f633a",
   "metadata": {},
   "outputs": [
    {
     "name": "stdout",
     "output_type": "stream",
     "text": [
      "<class 'float'>\n",
      "y is float\n"
     ]
    }
   ],
   "source": [
    "#Get the type of the variable\n",
    "\n",
    "y = 58686.34\n",
    "print(type(y))\n",
    "\n",
    "if type(y) is float:\n",
    "    print('y is float')"
   ]
  },
  {
   "cell_type": "code",
   "execution_count": 4,
   "id": "08e8e7fd",
   "metadata": {},
   "outputs": [
    {
     "data": {
      "text/plain": [
       "True"
      ]
     },
     "execution_count": 4,
     "metadata": {},
     "output_type": "execute_result"
    }
   ],
   "source": [
    "#String methods https://www.w3schools.com/python/python_ref_string.asp\n",
    "\n",
    "quote = 'to be or not to be'\n",
    "\n",
    "quote.islower()"
   ]
  },
  {
   "cell_type": "code",
   "execution_count": 5,
   "id": "e496b28d",
   "metadata": {},
   "outputs": [
    {
     "data": {
      "text/plain": [
       "True"
      ]
     },
     "execution_count": 5,
     "metadata": {},
     "output_type": "execute_result"
    }
   ],
   "source": [
    "bool(-1)"
   ]
  },
  {
   "cell_type": "code",
   "execution_count": 6,
   "id": "a76851f9",
   "metadata": {},
   "outputs": [
    {
     "name": "stdout",
     "output_type": "stream",
     "text": [
      "name: joe\n",
      "password: 33\n",
      "hello, joe. your password ** is 2 characters long\n"
     ]
    }
   ],
   "source": [
    "name = input('name: ')\n",
    "password = input('password: ')\n",
    "\n",
    "password_len = len(password)\n",
    "password_replacement = '*' * password_len\n",
    "\n",
    "print(f'hello, {name}. your password {password_replacement} is {password_len} characters long')"
   ]
  },
  {
   "cell_type": "markdown",
   "id": "d9f2c9a5",
   "metadata": {},
   "source": [
    "# List"
   ]
  },
  {
   "cell_type": "code",
   "execution_count": 10,
   "id": "d5dd088b",
   "metadata": {},
   "outputs": [
    {
     "data": {
      "text/plain": [
       "[1, 2.3, 'pff', True]"
      ]
     },
     "execution_count": 10,
     "metadata": {},
     "output_type": "execute_result"
    }
   ],
   "source": [
    "#One list can contain objects of various data types, no error is raised\n",
    "\n",
    "mix = [1, 2.3, 'pff', True]\n",
    "mix"
   ]
  },
  {
   "cell_type": "code",
   "execution_count": 11,
   "id": "5f374b36",
   "metadata": {},
   "outputs": [
    {
     "name": "stdout",
     "output_type": "stream",
     "text": [
      "['notebooks', 'toys']\n"
     ]
    }
   ],
   "source": [
    "#List slicing looks similar to string slicing, and a NEW list is created when slicing\n",
    "\n",
    "cart = [\n",
    "    'notebooks',\n",
    "    'sunglasses',\n",
    "    'toys',\n",
    "    'grapes'\n",
    "]\n",
    "\n",
    "print(cart[0::2])"
   ]
  },
  {
   "cell_type": "code",
   "execution_count": 12,
   "id": "809a8534",
   "metadata": {},
   "outputs": [
    {
     "name": "stdout",
     "output_type": "stream",
     "text": [
      "['laptop', 'sunglasses', 'toys', 'grapes']\n"
     ]
    }
   ],
   "source": [
    "#Lists are mutable\n",
    "\n",
    "cart[0] = 'laptop'\n",
    "print(cart)"
   ]
  },
  {
   "cell_type": "code",
   "execution_count": 13,
   "id": "3fc06521",
   "metadata": {},
   "outputs": [
    {
     "name": "stdout",
     "output_type": "stream",
     "text": [
      "new_list: [5, 2, 3, 4]\n",
      "demo_list: [5, 2, 3, 4]\n"
     ]
    }
   ],
   "source": [
    "#Assigning a reference to a list v.s. assigning a copy of a list\n",
    "\n",
    "demo_list = [1,2,3,4]\n",
    "new_list = demo_list #now new_list points to the same place in memory as demo_list\n",
    "\n",
    "new_list[0] = 5\n",
    "print('new_list: ' + str(new_list))\n",
    "print('demo_list: ' + str(demo_list)) #this one changed too\n",
    "\n",
    "#In order to avoid this, do new_list = demo_list[:] OR new_list = demo_list.copy()"
   ]
  },
  {
   "cell_type": "code",
   "execution_count": 14,
   "id": "af88829d",
   "metadata": {},
   "outputs": [
    {
     "name": "stdout",
     "output_type": "stream",
     "text": [
      "2\n"
     ]
    }
   ],
   "source": [
    "#Matrix (2d list)\n",
    "\n",
    "matrix = [\n",
    "    [1,2,3],\n",
    "    [4,5,6],\n",
    "    [7,8,9]\n",
    "]\n",
    "\n",
    "print(matrix[0][1])"
   ]
  },
  {
   "cell_type": "code",
   "execution_count": 15,
   "id": "62d28c40",
   "metadata": {},
   "outputs": [
    {
     "name": "stdout",
     "output_type": "stream",
     "text": [
      "3\n",
      "[3, 2, 1, 5]\n",
      "None\n"
     ]
    }
   ],
   "source": [
    "# Function v.s. method\n",
    "\n",
    "print(len([1,2,3])) # 'len' is a built-in FUNCTION that returns an int\n",
    "\n",
    "tst_list = [3,2,1]\n",
    "tst_list.append(5) # 'append' is a METHOD of a class List, it doesn't return anything\n",
    "print(tst_list) # [3, 2, 1, 5]\n",
    "\n",
    "print(tst_list.append(0)) #None"
   ]
  },
  {
   "cell_type": "code",
   "execution_count": 16,
   "id": "f0d4f2bf",
   "metadata": {},
   "outputs": [
    {
     "name": "stdout",
     "output_type": "stream",
     "text": [
      "[3, 4, 100, 5, 6]\n",
      "[3, 4, 100, 5, 200, 6]\n"
     ]
    }
   ],
   "source": [
    "# Insert a value at a particular index\n",
    "\n",
    "numbers = [3,4,5,6]\n",
    "numbers.insert(2,100) #(index, object_to_insert). If index is out of bounds - no error, the object is put to the end\n",
    "print(numbers)\n",
    "\n",
    "numbers.insert(-1, 200) # negative index - count from the end\n",
    "print(numbers)"
   ]
  },
  {
   "cell_type": "code",
   "execution_count": 17,
   "id": "848393db",
   "metadata": {},
   "outputs": [
    {
     "name": "stdout",
     "output_type": "stream",
     "text": [
      "['a', 'b', 'c', 'd']\n"
     ]
    }
   ],
   "source": [
    "#Merge two lists\n",
    "\n",
    "one = ['a','b']\n",
    "two = ['c','d']\n",
    "\n",
    "one.extend(two)\n",
    "print(one)"
   ]
  },
  {
   "cell_type": "code",
   "execution_count": 18,
   "id": "446fe223",
   "metadata": {},
   "outputs": [
    {
     "name": "stdout",
     "output_type": "stream",
     "text": [
      "[1, 2, 3, 4]\n",
      "[2, 3, 4]\n",
      "[2, 3]\n",
      "[]\n"
     ]
    }
   ],
   "source": [
    "#Remove elements\n",
    "numbers = [1,2,3,4,5]\n",
    "numbers.pop() #remove the last element\n",
    "print(numbers)\n",
    "\n",
    "numbers.pop(0) #remove the element at a particular INDEX. 'pop' returns the extracted value!!!\n",
    "print(numbers)\n",
    "\n",
    "numbers.remove(4) #remove a particular VALUE. Throws an error if the value is not in the list.\n",
    "print(numbers)\n",
    "\n",
    "numbers.clear() #removes all the elements, but the list still exists\n",
    "print(numbers)"
   ]
  },
  {
   "cell_type": "code",
   "execution_count": 19,
   "id": "8b14ba39",
   "metadata": {},
   "outputs": [
    {
     "name": "stdout",
     "output_type": "stream",
     "text": [
      "0\n",
      "False\n",
      "True\n"
     ]
    }
   ],
   "source": [
    "#Search for elements\n",
    "\n",
    "fruit = ['banana', 'strawberry', 'pear']\n",
    "print(fruit.index('banana')) #'index' throws an error if the element is not found\n",
    "\n",
    "#Better use 'in'\n",
    "\n",
    "print('apple' in fruit)\n",
    "\n",
    "#'in' usable in Strings too\n",
    "print('a' in 'alladin')"
   ]
  },
  {
   "cell_type": "code",
   "execution_count": 20,
   "id": "5067bb4e",
   "metadata": {},
   "outputs": [
    {
     "name": "stdout",
     "output_type": "stream",
     "text": [
      "4\n"
     ]
    }
   ],
   "source": [
    "#Count occurences\n",
    "print([1,2,2,3,2,2].count(2))"
   ]
  },
  {
   "cell_type": "code",
   "execution_count": 21,
   "id": "2aa30523",
   "metadata": {},
   "outputs": [
    {
     "name": "stdout",
     "output_type": "stream",
     "text": [
      "['a', 'b', 'c']\n",
      "['a', 'c', 'b']\n",
      "['a', 'b', 'c']\n"
     ]
    }
   ],
   "source": [
    "# The built-in function sorted() v.s. List.sort()\n",
    "\n",
    "letters = ['a', 'c', 'b']\n",
    "\n",
    "print(sorted(letters)) # sorted(...) returns a new list\n",
    "print(letters)\n",
    "\n",
    "letters.sort() # sort acts on an existing list, returns nothing\n",
    "print(letters)"
   ]
  },
  {
   "cell_type": "code",
   "execution_count": 22,
   "id": "1aaa2df4",
   "metadata": {},
   "outputs": [
    {
     "name": "stdout",
     "output_type": "stream",
     "text": [
      "[2, 2, 2, 1, 5, 3]\n",
      "[7, 6, 6, 5, 5, 4, 4]\n"
     ]
    }
   ],
   "source": [
    "# reverse() does not sort in reverse order, it just, well, reverses\n",
    "\n",
    "numbers = [3, 5, 1, 2, 2, 2]\n",
    "numbers.reverse()\n",
    "print(numbers)\n",
    "\n",
    "# To get a reversed version without affecting the initial list, use list slicing\n",
    "more_numbers = [4,4,5,5,6,6,7]\n",
    "print(more_numbers[::-1])"
   ]
  },
  {
   "cell_type": "code",
   "execution_count": 23,
   "id": "b5a16001",
   "metadata": {},
   "outputs": [
    {
     "name": "stdout",
     "output_type": "stream",
     "text": [
      "[0, 1, 2, 3, 4, 5]\n",
      "[2, 3, 4, 5]\n",
      "[0, 2, 4, 6, 8]\n"
     ]
    }
   ],
   "source": [
    "# Generating lists with range(*start,end,*step)\n",
    "\n",
    "print(list(range(6)))\n",
    "print(list(range(2,6)))\n",
    "print(list(range(0,10,2)))"
   ]
  },
  {
   "cell_type": "code",
   "execution_count": 24,
   "id": "8de2e48d",
   "metadata": {},
   "outputs": [
    {
     "name": "stdout",
     "output_type": "stream",
     "text": [
      "people*are*strange\n",
      "people    are    strange\n"
     ]
    }
   ],
   "source": [
    "# String.join() to glue list items into a string\n",
    "\n",
    "separator = '*'\n",
    "sentence = separator.join(['people', 'are', 'strange'])\n",
    "print(sentence)\n",
    "\n",
    "sentence = '    '.join(['people', 'are', 'strange'])\n",
    "print(sentence)"
   ]
  },
  {
   "cell_type": "code",
   "execution_count": 25,
   "id": "e3c6a9e1",
   "metadata": {},
   "outputs": [
    {
     "name": "stdout",
     "output_type": "stream",
     "text": [
      "1\n",
      "2\n",
      "3\n",
      "***\n",
      "1\n",
      "2\n",
      "3\n",
      "[4, 5, 6, 7, 8]\n",
      "9\n"
     ]
    }
   ],
   "source": [
    "# List unpacking\n",
    "\n",
    "a,b,c = [1,2,3]\n",
    "print(a)\n",
    "print(b)\n",
    "print(c)\n",
    "print('***')\n",
    "\n",
    "a,b,c, *other, d = [1,2,3,4,5,6,7,8,9]\n",
    "print(a)\n",
    "print(b)\n",
    "print(c)\n",
    "print(other)\n",
    "print(d)\n"
   ]
  },
  {
   "cell_type": "markdown",
   "id": "e56a0243",
   "metadata": {},
   "source": [
    "# Dictionary"
   ]
  },
  {
   "cell_type": "code",
   "execution_count": 26,
   "id": "179432b1",
   "metadata": {},
   "outputs": [
    {
     "name": "stdout",
     "output_type": "stream",
     "text": [
      "I\n"
     ]
    }
   ],
   "source": [
    "# Dictionary is a set of key-value pairs, where keys have to be unique and immutable \n",
    "# (strings/numbers/booleans, or tuples containing only strings/numbers/booleans)\n",
    "\n",
    "dictionary = {\n",
    "    'ik':'I',\n",
    "    'jij':'you'\n",
    "}\n",
    "\n",
    "print(dictionary['ik'])"
   ]
  },
  {
   "cell_type": "code",
   "execution_count": 27,
   "id": "db3cbcfb",
   "metadata": {},
   "outputs": [
    {
     "name": "stdout",
     "output_type": "stream",
     "text": [
      "{1: 'foobar', 'a': [1, 2, 3], (4, 'blah'): 666}\n",
      "666\n",
      "1\n"
     ]
    }
   ],
   "source": [
    "# Values can be any type. Mixing types is valid python.\n",
    "\n",
    "mess = {\n",
    "    1: 'foobar',\n",
    "    'a': [1,2,3],\n",
    "    (4, 'blah'): 666\n",
    "}\n",
    "\n",
    "print(mess)\n",
    "print(mess[(4, 'blah')])\n",
    "print(mess['a'][0])"
   ]
  },
  {
   "cell_type": "code",
   "execution_count": 28,
   "id": "a9738eff",
   "metadata": {},
   "outputs": [
    {
     "name": "stdout",
     "output_type": "stream",
     "text": [
      "111\n"
     ]
    }
   ],
   "source": [
    "# A dictionary can be a list item\n",
    "\n",
    "my_list = [\n",
    "    {'a':1, 'b':[111,2,3]},\n",
    "    'what?'\n",
    "]\n",
    "\n",
    "print(my_list[0]['b'][0])"
   ]
  },
  {
   "cell_type": "code",
   "execution_count": 29,
   "id": "cf8f0a2c",
   "metadata": {},
   "outputs": [
    {
     "name": "stdout",
     "output_type": "stream",
     "text": [
      "55\n"
     ]
    }
   ],
   "source": [
    "# If an element with duplicate key is added to the dictionary, no error is raised, \n",
    "# but the previous value assigned to this key is lost\n",
    "\n",
    "tst = {\n",
    "    'banana': 4,\n",
    "    'banana': 55\n",
    "}\n",
    "\n",
    "print(tst['banana'])"
   ]
  },
  {
   "cell_type": "code",
   "execution_count": 30,
   "id": "f54c7e9c",
   "metadata": {},
   "outputs": [
    {
     "name": "stdout",
     "output_type": "stream",
     "text": [
      "21\n"
     ]
    }
   ],
   "source": [
    "# To avoid KeyError, use dict.get(key, default) instead of dict[key]\n",
    "\n",
    "user = {\n",
    "    'weight': 666,\n",
    "    'height': 344\n",
    "}\n",
    "\n",
    "print(user.get('age', 21)) #instead of print(user['age'])"
   ]
  },
  {
   "cell_type": "code",
   "execution_count": 31,
   "id": "2e50b963",
   "metadata": {},
   "outputs": [
    {
     "name": "stdout",
     "output_type": "stream",
     "text": [
      "True\n",
      "True\n"
     ]
    }
   ],
   "source": [
    "# With dictionaries, 'in' searches among keys\n",
    "\n",
    "print('weight' in user)\n",
    "\n",
    "# Use D.values() to search among values\n",
    "print(666 in user.values())"
   ]
  },
  {
   "cell_type": "code",
   "execution_count": 32,
   "id": "714176be",
   "metadata": {},
   "outputs": [
    {
     "name": "stdout",
     "output_type": "stream",
     "text": [
      "{'weight': 777, 'height': 344, 'color': 'green'}\n"
     ]
    }
   ],
   "source": [
    "# 'update' overrides the value if the key is already in the dictionary, \n",
    "# and adds a new element if it isn't\n",
    "\n",
    "user.update({'weight':777, 'color':'green'})\n",
    "print(user)"
   ]
  },
  {
   "cell_type": "markdown",
   "id": "957b469e",
   "metadata": {},
   "source": [
    "# Tuple"
   ]
  },
  {
   "cell_type": "code",
   "execution_count": 33,
   "id": "765ddc77",
   "metadata": {},
   "outputs": [
    {
     "data": {
      "text/plain": [
       "True"
      ]
     },
     "execution_count": 33,
     "metadata": {},
     "output_type": "execute_result"
    }
   ],
   "source": [
    "#Tuple is immutable! And it's faster. \n",
    "\n",
    "my_tuple = (1,2,3,4,5)\n",
    "5 in my_tuple"
   ]
  },
  {
   "cell_type": "code",
   "execution_count": 34,
   "id": "71c1779e",
   "metadata": {},
   "outputs": [
    {
     "name": "stdout",
     "output_type": "stream",
     "text": [
      "(2, 3)\n",
      "c\n",
      "['d', 'e']\n"
     ]
    }
   ],
   "source": [
    "# Slicing with square brackets, as with other data structures\n",
    "\n",
    "new_tuple = my_tuple[1:3]\n",
    "print(new_tuple)\n",
    "\n",
    "# Group assignment, as with lists\n",
    "\n",
    "a,b,c,*other = ('a','b','c', 'd','e')\n",
    "print(c)\n",
    "print(other) # this is now a list, not a Tuple"
   ]
  },
  {
   "cell_type": "markdown",
   "id": "c64b1e31",
   "metadata": {},
   "source": [
    "# Set"
   ]
  },
  {
   "cell_type": "code",
   "execution_count": 35,
   "id": "e6c70951",
   "metadata": {},
   "outputs": [
    {
     "name": "stdout",
     "output_type": "stream",
     "text": [
      "{1, 2, 3, 4, 5}\n",
      "{1, 2, 3, 4, 5, 100}\n"
     ]
    }
   ],
   "source": [
    "# Unordered MUTABLE collection of unique items\n",
    "\n",
    "my_set = {1,2,3,4,5,5} # no error is raised for duplicate, it's just ignored!\n",
    "print(my_set)\n",
    "\n",
    "my_set.add(100)\n",
    "print(my_set)"
   ]
  },
  {
   "cell_type": "code",
   "execution_count": 36,
   "id": "93229fbf",
   "metadata": {},
   "outputs": [
    {
     "name": "stdout",
     "output_type": "stream",
     "text": [
      "{1, 2, 3, 4, 5}\n",
      "[1, 2, 3, 4, 5]\n"
     ]
    }
   ],
   "source": [
    "# Remove duplicates from a list in one line\n",
    "my_list = [1,2,2,3,3,4,5]\n",
    "print(set(my_list))\n",
    "print(list(set(my_list)))"
   ]
  },
  {
   "cell_type": "code",
   "execution_count": 37,
   "id": "748d8f88",
   "metadata": {},
   "outputs": [
    {
     "ename": "TypeError",
     "evalue": "'set' object is not subscriptable",
     "output_type": "error",
     "traceback": [
      "\u001b[1;31m---------------------------------------------------------------------------\u001b[0m",
      "\u001b[1;31mTypeError\u001b[0m                                 Traceback (most recent call last)",
      "\u001b[1;32m~\\AppData\\Local\\Temp/ipykernel_6360/3569106209.py\u001b[0m in \u001b[0;36m<module>\u001b[1;34m\u001b[0m\n\u001b[0;32m      1\u001b[0m \u001b[1;31m# Elements can't be accessed by index - because set is unordered\u001b[0m\u001b[1;33m\u001b[0m\u001b[1;33m\u001b[0m\u001b[0m\n\u001b[0;32m      2\u001b[0m \u001b[0mmy_set\u001b[0m \u001b[1;33m=\u001b[0m \u001b[1;33m{\u001b[0m\u001b[1;36m1\u001b[0m\u001b[1;33m,\u001b[0m\u001b[1;36m2\u001b[0m\u001b[1;33m,\u001b[0m\u001b[1;36m3\u001b[0m\u001b[1;33m}\u001b[0m\u001b[1;33m\u001b[0m\u001b[1;33m\u001b[0m\u001b[0m\n\u001b[1;32m----> 3\u001b[1;33m \u001b[0mprint\u001b[0m\u001b[1;33m(\u001b[0m\u001b[0mmy_set\u001b[0m\u001b[1;33m[\u001b[0m\u001b[1;36m0\u001b[0m\u001b[1;33m]\u001b[0m\u001b[1;33m)\u001b[0m \u001b[1;31m#TypeError: 'set' object is not subscriptable\u001b[0m\u001b[1;33m\u001b[0m\u001b[1;33m\u001b[0m\u001b[0m\n\u001b[0m",
      "\u001b[1;31mTypeError\u001b[0m: 'set' object is not subscriptable"
     ]
    }
   ],
   "source": [
    "# Elements can't be accessed by index - because set is unordered\n",
    "my_set = {1,2,3}\n",
    "print(my_set[0]) #TypeError: 'set' object is not subscriptable"
   ]
  },
  {
   "cell_type": "code",
   "execution_count": 38,
   "id": "a31251d5",
   "metadata": {},
   "outputs": [
    {
     "name": "stdout",
     "output_type": "stream",
     "text": [
      "{1, 2, 3}\n",
      "{4, 5}\n"
     ]
    }
   ],
   "source": [
    "# Sets support intersection, difference etc.\n",
    "\n",
    "set1 = {1,2,3,4,5}\n",
    "set2 = {4,5,6,7,8,9,10}\n",
    "\n",
    "print(set1.difference(set2)) #{1, 2, 3}\n",
    "print(set1.intersection(set2)) # {4,5} , can be written like this: set1 & set2\n",
    "\n",
    "# 'isdisjoint' means 'the sets have nothing in common'\n"
   ]
  },
  {
   "cell_type": "code",
   "execution_count": 39,
   "id": "3a95d9c3",
   "metadata": {},
   "outputs": [
    {
     "name": "stdout",
     "output_type": "stream",
     "text": [
      "{1, 2, 3, 4, 5, 6, 7, 8, 9, 10}\n"
     ]
    }
   ],
   "source": [
    "# Glue two sets together\n",
    "print(set1 | set2)"
   ]
  },
  {
   "cell_type": "code",
   "execution_count": 40,
   "id": "aa53878c",
   "metadata": {},
   "outputs": [
    {
     "name": "stdout",
     "output_type": "stream",
     "text": [
      "{'b', 'a', 'c'}\n"
     ]
    }
   ],
   "source": [
    "# remove() raises an error if there is no such item, discard() does not\n",
    "\n",
    "set1 = {'a', 'b', 'c'}\n",
    "set1.discard('f')\n",
    "print(set1)"
   ]
  },
  {
   "cell_type": "markdown",
   "id": "64431e7f",
   "metadata": {},
   "source": [
    "# Condition"
   ]
  },
  {
   "cell_type": "code",
   "execution_count": 41,
   "id": "2ac68450",
   "metadata": {},
   "outputs": [
    {
     "name": "stdout",
     "output_type": "stream",
     "text": [
      "check\n"
     ]
    }
   ],
   "source": [
    "# Indentation determines the program structure!! (because there are no curly brackets for blocks)\n",
    "\n",
    "is_old = False\n",
    "\n",
    "if is_old:\n",
    "    print('is old')\n",
    "print('check')"
   ]
  },
  {
   "cell_type": "code",
   "execution_count": 42,
   "id": "1eaae722",
   "metadata": {},
   "outputs": [
    {
     "name": "stdout",
     "output_type": "stream",
     "text": [
      "blue\n"
     ]
    }
   ],
   "source": [
    "# Four blank spaces instead of a tab - works ok\n",
    "\n",
    "color = 2\n",
    "\n",
    "if color==0:\n",
    "    print('red')\n",
    "elif color==1:\n",
    "    print('green')\n",
    "elif color==2:\n",
    "    print('blue')\n",
    "else:\n",
    "    print('unknown color')"
   ]
  },
  {
   "cell_type": "code",
   "execution_count": 43,
   "id": "3152f17e",
   "metadata": {},
   "outputs": [
    {
     "name": "stdout",
     "output_type": "stream",
     "text": [
      "let it snow\n"
     ]
    }
   ],
   "source": [
    "# And, or\n",
    "frightful_weather = True\n",
    "delightful_fire = True\n",
    "\n",
    "if frightful_weather and delightful_fire:\n",
    "    print('let it snow')\n",
    "    "
   ]
  },
  {
   "cell_type": "code",
   "execution_count": 44,
   "id": "a1b6a16d",
   "metadata": {},
   "outputs": [
    {
     "name": "stdout",
     "output_type": "stream",
     "text": [
      "False\n",
      "False\n",
      "what?\n",
      "your list is not empty!\n",
      "this one is empty\n",
      "both are not empty\n"
     ]
    }
   ],
   "source": [
    "# Truthy and Falsy\n",
    "\n",
    "print(bool('')) # a non-empty string is \"truthy\"\n",
    "print(bool(0)) # everything that is not 0 is \"truthy\"\n",
    "\n",
    "# In conditions the type conversion happens implicitly\n",
    "\n",
    "if 'foo' and 55:\n",
    "    print(\"what?\")\n",
    "    \n",
    "# Empty list, dict, tuple, string, set, range(0) - all Falsy. All kinds of zeroes are Falsy\n",
    "\n",
    "if [1,2]:\n",
    "    print('your list is not empty!')\n",
    "    \n",
    "if not []:\n",
    "    print('this one is empty')\n",
    "    \n",
    "name = 'whatever'\n",
    "password = 'whatever'\n",
    "\n",
    "if name and password:\n",
    "    print('both are not empty')"
   ]
  },
  {
   "cell_type": "code",
   "execution_count": 45,
   "id": "1a957dbe",
   "metadata": {},
   "outputs": [
    {
     "name": "stdout",
     "output_type": "stream",
     "text": [
      "message allowed\n"
     ]
    }
   ],
   "source": [
    "# Ternary Operator/Conditional Expression\n",
    "# variable = value_if_condition_true IF condition ELSE value_if_condition_false\n",
    "\n",
    "is_friend = True\n",
    "\n",
    "can_message = 'message allowed' if is_friend else \"message not allowed\"\n",
    "print(can_message)"
   ]
  },
  {
   "cell_type": "code",
   "execution_count": 46,
   "id": "ae7f755b",
   "metadata": {},
   "outputs": [
    {
     "name": "stdout",
     "output_type": "stream",
     "text": [
      "True\n",
      "False\n"
     ]
    }
   ],
   "source": [
    "# Short circuiting - if the result is already clear, the remaining expressions are not evaluated\n",
    "# Be mindful of the order in '... and ...', '... or ...', put costly expressions on the second (third, fourth...) place\n",
    "    \n",
    "print(bool(44 or 0))  # 0 is never evaluated\n",
    "print(bool('' and 'foobar')) # 'foobar' is never evaluated"
   ]
  },
  {
   "cell_type": "markdown",
   "id": "eaacfe36",
   "metadata": {},
   "source": [
    "# Logical operators"
   ]
  },
  {
   "cell_type": "code",
   "execution_count": 47,
   "id": "1b6f9e22",
   "metadata": {},
   "outputs": [
    {
     "name": "stdout",
     "output_type": "stream",
     "text": [
      "True\n"
     ]
    }
   ],
   "source": [
    "print(1 < 2 < 3 < 4) #valid"
   ]
  },
  {
   "cell_type": "code",
   "execution_count": 48,
   "id": "e7dba418",
   "metadata": {},
   "outputs": [
    {
     "name": "stdout",
     "output_type": "stream",
     "text": [
      "False\n",
      "False\n"
     ]
    }
   ],
   "source": [
    "# Usual set:\n",
    "# < > == >= <= !=\n",
    "# Words:\n",
    "# and or not\n",
    "\n",
    "print(not True)\n",
    "print(not 1 > 0)"
   ]
  },
  {
   "cell_type": "code",
   "execution_count": 49,
   "id": "fc6fc85e",
   "metadata": {},
   "outputs": [
    {
     "name": "stdout",
     "output_type": "stream",
     "text": [
      "True\n",
      "True\n",
      "True\n",
      "True\n",
      "True\n",
      "False\n",
      "True\n",
      "True\n"
     ]
    },
    {
     "name": "stderr",
     "output_type": "stream",
     "text": [
      "<>:18: SyntaxWarning: \"is\" with a literal. Did you mean \"==\"?\n",
      "<>:19: SyntaxWarning: \"is\" with a literal. Did you mean \"==\"?\n",
      "<>:18: SyntaxWarning: \"is\" with a literal. Did you mean \"==\"?\n",
      "<>:19: SyntaxWarning: \"is\" with a literal. Did you mean \"==\"?\n",
      "C:\\Users\\jeyan\\AppData\\Local\\Temp/ipykernel_6360/582286762.py:18: SyntaxWarning: \"is\" with a literal. Did you mean \"==\"?\n",
      "  print(10 is 10)\n",
      "C:\\Users\\jeyan\\AppData\\Local\\Temp/ipykernel_6360/582286762.py:19: SyntaxWarning: \"is\" with a literal. Did you mean \"==\"?\n",
      "  print('a' is 'a')\n"
     ]
    }
   ],
   "source": [
    "# == v.s. is\n",
    "\n",
    "# == checks the equality of VALUE\n",
    "print(True == 1) # True, like the rest\n",
    "print(False == 0)\n",
    "print(10 == 10.0)\n",
    "print([] == [])\n",
    "\n",
    "# is checks the REFERENCE\n",
    "some_list = [1,2,3]\n",
    "another_list = some_list\n",
    "print(another_list is some_list) #True\n",
    "\n",
    "#but this is false:\n",
    "print([1,2,3] is some_list)\n",
    "\n",
    "#Same numbers and strings will be in the same location in memory, so these are True:\n",
    "print(10 is 10)\n",
    "print('a' is 'a')"
   ]
  },
  {
   "cell_type": "markdown",
   "id": "29230af2",
   "metadata": {},
   "source": [
    "# Loops"
   ]
  },
  {
   "cell_type": "code",
   "execution_count": 50,
   "id": "363ea6d5",
   "metadata": {},
   "outputs": [
    {
     "name": "stdout",
     "output_type": "stream",
     "text": [
      "*s*\n",
      "*o*\n",
      "*m*\n",
      "*e*\n",
      "* *\n",
      "*s*\n",
      "*t*\n",
      "*r*\n",
      "*i*\n",
      "*n*\n",
      "*g*\n",
      "outside of loop, item is still visible and has the latest value: g\n"
     ]
    }
   ],
   "source": [
    "for item in 'some string':\n",
    "    print(f'*{item}*')\n",
    "    \n",
    "print(f'outside of loop, item is still visible and has the latest value: {item}')"
   ]
  },
  {
   "cell_type": "code",
   "execution_count": 51,
   "id": "d611537e",
   "metadata": {},
   "outputs": [
    {
     "name": "stdout",
     "output_type": "stream",
     "text": [
      "1 a\n",
      "1 b\n",
      "1 c\n",
      "2 a\n",
      "2 b\n",
      "2 c\n",
      "3 a\n",
      "3 b\n",
      "3 c\n"
     ]
    }
   ],
   "source": [
    "#Nested loop\n",
    "\n",
    "for i in (1,2,3):\n",
    "    for j in ['a','b','c']:\n",
    "        print(i,j)"
   ]
  },
  {
   "cell_type": "code",
   "execution_count": 52,
   "id": "d4ab7aa8",
   "metadata": {},
   "outputs": [
    {
     "name": "stdout",
     "output_type": "stream",
     "text": [
      "name\n",
      "age\n",
      "can_swim\n",
      "('name', 'Golem')\n",
      "('age', 5006)\n",
      "('can_swim', False)\n",
      "key: name, value: Golem\n",
      "key: age, value: 5006\n",
      "key: can_swim, value: False\n"
     ]
    }
   ],
   "source": [
    "#Loop through a dictionary\n",
    "\n",
    "user = {\n",
    "    'name': 'Golem',\n",
    "    'age': 5006,\n",
    "    'can_swim': False\n",
    "}\n",
    "\n",
    "# prints only keys\n",
    "for item in user:\n",
    "    print(item)\n",
    "    \n",
    "#prints (key, value) tuples\n",
    "for item in user.items():\n",
    "    print(item)\n",
    "    \n",
    "#access keys and values directly in the loop\n",
    "for key, value in user.items():\n",
    "    print(f'key: {key}, value: {value}')"
   ]
  },
  {
   "cell_type": "code",
   "execution_count": 53,
   "id": "308b9945",
   "metadata": {},
   "outputs": [
    {
     "name": "stdout",
     "output_type": "stream",
     "text": [
      "10\n",
      "15\n",
      "20\n",
      "25\n",
      "30\n",
      "35\n",
      "40\n",
      "45\n",
      "50\n",
      "55\n",
      "60\n",
      "65\n",
      "70\n",
      "75\n",
      "80\n",
      "85\n",
      "90\n",
      "95\n",
      "blah\n",
      "blah\n",
      "blah\n",
      "blah\n",
      "blah\n",
      "[0, 1, 2, 3, 4]\n"
     ]
    }
   ],
   "source": [
    "# range\n",
    "\n",
    "for i in range(10,100,5): #range(start_including, end_NOT_encluding, step_over)\n",
    "    print(i)\n",
    "    \n",
    "for _ in range(5): #execute the code 5 times, _ is a valid variable name, but it's used to show we don't care about this var\n",
    "    print('blah')\n",
    "    \n",
    "#Generate a list\n",
    "f = list(range(5))\n",
    "print(f)"
   ]
  },
  {
   "cell_type": "code",
   "execution_count": 54,
   "id": "e74a7326",
   "metadata": {},
   "outputs": [
    {
     "name": "stdout",
     "output_type": "stream",
     "text": [
      "the index of 'c' is 2\n"
     ]
    }
   ],
   "source": [
    "# enumerate - provides index, item\n",
    "\n",
    "for i, j in enumerate(['a','b','c']):\n",
    "    # what's the index of 'c'?\n",
    "    if j == 'c':\n",
    "        print(f'the index of \\'{j}\\' is {i}')"
   ]
  },
  {
   "cell_type": "code",
   "execution_count": 55,
   "id": "907b3306",
   "metadata": {},
   "outputs": [
    {
     "name": "stdout",
     "output_type": "stream",
     "text": [
      "0\n"
     ]
    }
   ],
   "source": [
    "# while loops\n",
    "\n",
    "# Infinite loop \n",
    "# while True:\n",
    "\n",
    "# The code in \"else\" is not executed if we 'break' out of while loop\n",
    "\n",
    "i = 0\n",
    "while i < 10:\n",
    "    print(i)\n",
    "    i += 1\n",
    "    break\n",
    "else:\n",
    "    print(\"done\")"
   ]
  },
  {
   "cell_type": "code",
   "execution_count": 56,
   "id": "04fd0e7b",
   "metadata": {},
   "outputs": [
    {
     "name": "stdout",
     "output_type": "stream",
     "text": [
      "something\n"
     ]
    }
   ],
   "source": [
    "# 'continue' breaks out of current iteration\n",
    "\n",
    "# 'pass' does nothing, it's a placeholder\n",
    "\n",
    "for i in [1,2,3]:\n",
    "    # TODO process the list\n",
    "    pass # without 'pass' there would be an IndentationError\n",
    "\n",
    "print('something')\n"
   ]
  },
  {
   "cell_type": "markdown",
   "id": "21efe26c",
   "metadata": {},
   "source": [
    "# Clean pythonic code example"
   ]
  },
  {
   "cell_type": "code",
   "execution_count": 57,
   "id": "3c1b7a75",
   "metadata": {},
   "outputs": [
    {
     "name": "stdout",
     "output_type": "stream",
     "text": [
      "   ^   \n",
      "  ^^^  \n",
      " ^^^^^ \n",
      "^^^^^^^\n",
      "   ^   \n",
      "   ^   \n"
     ]
    }
   ],
   "source": [
    "# Print a symbol instead of 1 and a blank space instead of 0\n",
    "\n",
    "picture = [\n",
    "  [0,0,0,1,0,0,0],\n",
    "  [0,0,1,1,1,0,0],\n",
    "  [0,1,1,1,1,1,0],\n",
    "  [1,1,1,1,1,1,1],\n",
    "  [0,0,0,1,0,0,0],\n",
    "  [0,0,0,1,0,0,0]\n",
    "]\n",
    "\n",
    "fill = '^' # if the filler symbol is changed, it must be changed in one place only\n",
    "space = ' '\n",
    "\n",
    "for row in picture: # clear variable names\n",
    "    for pixel in row:\n",
    "        if pixel: # instead of pixel == 1, just treat 1 as a \"truthy\" value\n",
    "            print(fill, end = '')\n",
    "        else:\n",
    "            print(space, end = '')\n",
    "    print()\n",
    "            "
   ]
  },
  {
   "cell_type": "code",
   "execution_count": 58,
   "id": "b3007cda",
   "metadata": {},
   "outputs": [
    {
     "name": "stdout",
     "output_type": "stream",
     "text": [
      "b occurs 2 times.\n",
      "n occurs 2 times.\n"
     ]
    }
   ],
   "source": [
    "# Find duplicates in a list\n",
    "\n",
    "some_list = ['a', 'b', 'c', 'b', 'd', 'm', 'n', 'n']\n",
    "\n",
    "counted = []\n",
    "\n",
    "for letter in some_list:\n",
    "    if letter in counted:\n",
    "        continue\n",
    "    \n",
    "    occurences = some_list.count(letter)\n",
    "    if occurences > 1:\n",
    "        print(f'{letter} occurs {occurences} times.')\n",
    "        counted.append(letter)"
   ]
  },
  {
   "cell_type": "markdown",
   "id": "04911cb3",
   "metadata": {},
   "source": [
    "# Functions"
   ]
  },
  {
   "cell_type": "code",
   "execution_count": 59,
   "id": "41c9e6e1",
   "metadata": {},
   "outputs": [
    {
     "name": "stdout",
     "output_type": "stream",
     "text": [
      "   *   \n",
      "  ***  \n",
      " ***** \n",
      "*******\n",
      "   *   \n",
      "   *   \n"
     ]
    }
   ],
   "source": [
    "# same naming case as with variables\n",
    "\n",
    "def matrix_to_picture(matrix, fill, space):\n",
    "    for row in matrix: \n",
    "        for pixel in row:\n",
    "            if pixel:\n",
    "                print(fill, end = '')\n",
    "            else:\n",
    "                print(space, end = '')\n",
    "        print()\n",
    "\n",
    "picture = [\n",
    "  [0,0,0,1,0,0,0],\n",
    "  [0,0,1,1,1,0,0],\n",
    "  [0,1,1,1,1,1,0],\n",
    "  [1,1,1,1,1,1,1],\n",
    "  [0,0,0,1,0,0,0],\n",
    "  [0,0,0,1,0,0,0]\n",
    "]\n",
    "\n",
    "matrix_to_picture(picture, '*', ' ')"
   ]
  },
  {
   "cell_type": "markdown",
   "id": "480e0d46",
   "metadata": {},
   "source": [
    "### Parameters v.s. arguments"
   ]
  },
  {
   "cell_type": "code",
   "execution_count": 60,
   "id": "19958bcd",
   "metadata": {},
   "outputs": [
    {
     "name": "stdout",
     "output_type": "stream",
     "text": [
      "hello, jack o.O\n"
     ]
    }
   ],
   "source": [
    "# PARAMETERS are the variables used in the function. Parameters are used when we define a function.\n",
    "# here emoji is a DEFAULT PARAMETER\n",
    "def say_hello(name, emoji = 'o.O'):\n",
    "    print(f'hello, {name} {emoji}')\n",
    "    \n",
    "# ARGUMENTS are the actual values we provide to a function. Arguments are used when we call a function\n",
    "say_hello('jack')"
   ]
  },
  {
   "cell_type": "markdown",
   "id": "333ee362",
   "metadata": {},
   "source": [
    "### Positional v.s. keyword arguments"
   ]
  },
  {
   "cell_type": "code",
   "execution_count": 61,
   "id": "068b9a16",
   "metadata": {},
   "outputs": [
    {
     "name": "stdout",
     "output_type": "stream",
     "text": [
      "Mary has a little lamb\n",
      "Annie has a little lamb\n",
      "Rory has a little lamb\n"
     ]
    }
   ],
   "source": [
    "# If the keyword is not specified, the order determines the mapping of arguments to parameters\n",
    "\n",
    "def story(human, animal):\n",
    "    print(f'{human} has a little {animal}')\n",
    "    \n",
    "story('Mary', 'lamb') # the order needs to be preserved\n",
    "\n",
    "story(animal = 'lamb', human = 'Annie') # the order doesn't matter. \n",
    "\n",
    "# But it's a good practice to follow the parameter order anyway with keyword arguments, like this:\n",
    "story(human = 'Rory', animal = 'lamb')"
   ]
  },
  {
   "cell_type": "markdown",
   "id": "e77b45ed",
   "metadata": {},
   "source": [
    "### Return"
   ]
  },
  {
   "cell_type": "code",
   "execution_count": 62,
   "id": "34c4250a",
   "metadata": {},
   "outputs": [
    {
     "name": "stdout",
     "output_type": "stream",
     "text": [
      "7\n",
      "10\n"
     ]
    }
   ],
   "source": [
    "def sum_and_product(num1, num2):\n",
    "    return num1 + num2, num1 * num2\n",
    "\n",
    "a, b = sum_and_product(2,5)\n",
    "print(a)\n",
    "print(b)"
   ]
  },
  {
   "cell_type": "code",
   "execution_count": 63,
   "id": "46e69da6",
   "metadata": {},
   "outputs": [
    {
     "name": "stdout",
     "output_type": "stream",
     "text": [
      "hi\n",
      "None\n"
     ]
    }
   ],
   "source": [
    "# when there's no 'return' statement, the function returns None\n",
    "\n",
    "def print_hi():\n",
    "    print('hi')\n",
    "    \n",
    "print(print_hi())"
   ]
  },
  {
   "cell_type": "markdown",
   "id": "a74e3c0f",
   "metadata": {},
   "source": [
    "### Docstrings"
   ]
  },
  {
   "cell_type": "code",
   "execution_count": 64,
   "id": "a8acf4be",
   "metadata": {},
   "outputs": [
    {
     "name": "stdout",
     "output_type": "stream",
     "text": [
      "Help on function greet in module __main__:\n",
      "\n",
      "greet(name)\n",
      "    Greets the specified user\n",
      "\n",
      "***\n",
      "\n",
      "    Greets the specified user\n",
      "    \n"
     ]
    }
   ],
   "source": [
    "#Always write them.\n",
    "\n",
    "def greet(name):\n",
    "    '''\n",
    "    Greets the specified user\n",
    "    '''\n",
    "    print(f'Hallo, {name}')\n",
    "\n",
    "help(greet)\n",
    "print('***')\n",
    "print(greet.__doc__)"
   ]
  },
  {
   "cell_type": "markdown",
   "id": "1ce8dcdd",
   "metadata": {},
   "source": [
    "### \\*args, **kwargs"
   ]
  },
  {
   "cell_type": "code",
   "execution_count": 65,
   "id": "c41cd079",
   "metadata": {},
   "outputs": [
    {
     "data": {
      "text/plain": [
       "6"
      ]
     },
     "execution_count": 65,
     "metadata": {},
     "output_type": "execute_result"
    }
   ],
   "source": [
    "def sum_them_all(*args):\n",
    "    return sum(args)\n",
    "\n",
    "sum_them_all(1,2,3)"
   ]
  },
  {
   "cell_type": "code",
   "execution_count": 66,
   "id": "8b60dd50",
   "metadata": {},
   "outputs": [],
   "source": [
    "# each of the **kwargs is interpreted as a dict item"
   ]
  },
  {
   "cell_type": "code",
   "execution_count": 67,
   "id": "5f7be0d2",
   "metadata": {},
   "outputs": [
    {
     "name": "stdout",
     "output_type": "stream",
     "text": [
      "{'num1': 5, 'num2': 10}\n",
      "15\n"
     ]
    }
   ],
   "source": [
    "def kwargs_test(**kwargs):\n",
    "    print(kwargs)\n",
    "    return sum(kwargs.values())\n",
    "    \n",
    "x = kwargs_test(num1 = 5, num2 = 10)\n",
    "print(x)"
   ]
  },
  {
   "cell_type": "markdown",
   "id": "d3bb5e0d",
   "metadata": {},
   "source": [
    "### The order of parameters: (params, \\*args, default params,  **kwargs)"
   ]
  },
  {
   "cell_type": "code",
   "execution_count": 68,
   "id": "e32a1e90",
   "metadata": {},
   "outputs": [
    {
     "name": "stdout",
     "output_type": "stream",
     "text": [
      "2\n"
     ]
    }
   ],
   "source": [
    "def highest_even(*numbers):\n",
    "    num_list = list(numbers)\n",
    "    num_list.sort()\n",
    "    \n",
    "    while num_list:\n",
    "        highest_num = num_list.pop()\n",
    "        if highest_num % 2 == 0:\n",
    "            return highest_num\n",
    "\n",
    "print(highest_even(3,5, 2,11))"
   ]
  },
  {
   "cell_type": "markdown",
   "id": "3909ca09",
   "metadata": {},
   "source": [
    "### Using global variables inside a function - bad practice, instead do Dependency Injection"
   ]
  },
  {
   "cell_type": "code",
   "execution_count": 69,
   "id": "5ac41bcb",
   "metadata": {},
   "outputs": [
    {
     "name": "stdout",
     "output_type": "stream",
     "text": [
      "3\n"
     ]
    }
   ],
   "source": [
    "total = 0\n",
    "\n",
    "def count():\n",
    "    global total\n",
    "    total += 1\n",
    "\n",
    "count()\n",
    "count()\n",
    "count()\n",
    "print(total)"
   ]
  },
  {
   "cell_type": "markdown",
   "id": "86fe6a9a",
   "metadata": {},
   "source": [
    "### 'nonlocal' keyword - use a variable from a one-level-up scope, but not from global scope"
   ]
  },
  {
   "cell_type": "code",
   "execution_count": 70,
   "id": "b3f2876a",
   "metadata": {},
   "outputs": [
    {
     "name": "stdout",
     "output_type": "stream",
     "text": [
      "in level_2: in level 2\n",
      "in level_1: in level 2\n",
      "global\n"
     ]
    }
   ],
   "source": [
    "x = \"global\"\n",
    "\n",
    "def level_1():\n",
    "    x = \"in level 1\"\n",
    "    \n",
    "    def level_2():\n",
    "        nonlocal x\n",
    "        x = \"in level 2\"\n",
    "        print(f'in level_2: {x}')\n",
    "        \n",
    "    level_2()\n",
    "    print(f'in level_1: {x}')\n",
    "    \n",
    "level_1()\n",
    "print(x)\n"
   ]
  },
  {
   "cell_type": "markdown",
   "id": "4ce9be2d",
   "metadata": {},
   "source": [
    "### Pure function: (1) same input --> same output; (2) does not produce any side effects"
   ]
  },
  {
   "cell_type": "code",
   "execution_count": 71,
   "id": "8c8cc29f",
   "metadata": {},
   "outputs": [
    {
     "name": "stdout",
     "output_type": "stream",
     "text": [
      "[2, 4, 6]\n"
     ]
    }
   ],
   "source": [
    "def multiply_by_2(li):\n",
    "    new_list = []\n",
    "    for item in li:\n",
    "        new_list.append(item * 2)\n",
    "    return new_list\n",
    "        \n",
    "print(multiply_by_2([1,2,3]))"
   ]
  },
  {
   "cell_type": "markdown",
   "id": "10dad382",
   "metadata": {},
   "source": [
    "# Useful built-in functions: map, filter, zip, reduce"
   ]
  },
  {
   "cell_type": "code",
   "execution_count": 72,
   "id": "cf4dd681",
   "metadata": {},
   "outputs": [
    {
     "name": "stdout",
     "output_type": "stream",
     "text": [
      "[2, 4, 6]\n",
      "[1, 2, 3]\n"
     ]
    }
   ],
   "source": [
    "# map - process each element of the iterable\n",
    "\n",
    "def multiply_by2(item):\n",
    "    return item * 2\n",
    "\n",
    "my_list = [1,2,3]\n",
    "map_object = map(multiply_by2, my_list) # (action, iterable) - perform an action on each element of iterable\n",
    "\n",
    "print(list(map_object))\n",
    "print(my_list) # the iterable is not affected"
   ]
  },
  {
   "cell_type": "code",
   "execution_count": 73,
   "id": "0f9efbbe",
   "metadata": {},
   "outputs": [
    {
     "name": "stdout",
     "output_type": "stream",
     "text": [
      "[1, 3, 5, 7]\n"
     ]
    }
   ],
   "source": [
    "# filter - choose certain elements of an iterable\n",
    "\n",
    "def is_odd(item):\n",
    "    return item % 2 != 0\n",
    "\n",
    "my_list = [1,2,3,4,5,6,7]\n",
    "filter_object = filter(is_odd, my_list) # (function, iterable) - if the function returns True, keep the item\n",
    "print(list(filter_object))"
   ]
  },
  {
   "cell_type": "code",
   "execution_count": 74,
   "id": "89395d44",
   "metadata": {},
   "outputs": [
    {
     "name": "stdout",
     "output_type": "stream",
     "text": [
      "[(1, 10), (2, 20), (3, 30)]\n"
     ]
    }
   ],
   "source": [
    "# zip - combine two iterables\n",
    "\n",
    "list_1 = [1,2,3]\n",
    "tuple_1 = (10,20,30,40) # 40 is ignored, no error thrown\n",
    "\n",
    "zip_object = zip(list_1, tuple_1)\n",
    "print(list(zip_object))"
   ]
  },
  {
   "cell_type": "code",
   "execution_count": 75,
   "id": "5eb61fc3",
   "metadata": {},
   "outputs": [
    {
     "name": "stdout",
     "output_type": "stream",
     "text": [
      "106\n"
     ]
    }
   ],
   "source": [
    "# reduce - pack the iterable into one value in a certain way\n",
    "\n",
    "from functools import reduce\n",
    "\n",
    "def accumulator(acc, item):\n",
    "    return acc + item\n",
    "\n",
    "my_list = [1,2,3]\n",
    "\n",
    "print(reduce(accumulator, my_list, 100))"
   ]
  },
  {
   "cell_type": "markdown",
   "id": "fb02a643",
   "metadata": {},
   "source": [
    "# List/set/dictionary comprehensions"
   ]
  },
  {
   "cell_type": "code",
   "execution_count": 76,
   "id": "7268ecf3",
   "metadata": {},
   "outputs": [
    {
     "name": "stdout",
     "output_type": "stream",
     "text": [
      "['H', 'E', 'L', 'L', 'O']\n",
      "\n",
      "[0, 2, 4, 6, 8, 10, 12, 14, 16, 18, 20, 22, 24, 26, 28, 30, 32, 34, 36, 38, 40, 42, 44, 46, 48, 50, 52, 54, 56, 58, 60, 62, 64, 66, 68, 70, 72, 74, 76, 78, 80, 82, 84, 86, 88, 90, 92, 94, 96, 98, 100, 102, 104, 106, 108, 110, 112, 114, 116, 118, 120, 122, 124, 126, 128, 130, 132, 134, 136, 138, 140, 142, 144, 146, 148, 150, 152, 154, 156, 158, 160, 162, 164, 166, 168, 170, 172, 174, 176, 178, 180, 182, 184, 186, 188, 190, 192, 194, 196, 198]\n"
     ]
    }
   ],
   "source": [
    "# list = [param FOR param IN iterable IF condition]\n",
    "\n",
    "list_1 = [char.capitalize() for char in 'hello']\n",
    "print(list_1)\n",
    "print()\n",
    "\n",
    "numbers = [num * 2 for num in range(0,100)]\n",
    "print(numbers)"
   ]
  },
  {
   "cell_type": "code",
   "execution_count": 77,
   "id": "e532d1e8",
   "metadata": {},
   "outputs": [
    {
     "name": "stdout",
     "output_type": "stream",
     "text": [
      "[0, 4, 16, 36, 64, 100, 144, 196, 256, 324, 400, 484, 576, 676, 784, 900, 1024, 1156, 1296, 1444, 1600, 1764, 1936, 2116, 2304, 2500, 2704, 2916, 3136, 3364, 3600, 3844, 4096, 4356, 4624, 4900, 5184, 5476, 5776, 6084, 6400, 6724, 7056, 7396, 7744, 8100, 8464, 8836, 9216, 9604]\n"
     ]
    }
   ],
   "source": [
    "numbers = [num**2 for num in range(0,100) if num % 2 == 0] # keep only even numbers\n",
    "print(numbers)"
   ]
  },
  {
   "cell_type": "code",
   "execution_count": 78,
   "id": "e092c783",
   "metadata": {},
   "outputs": [
    {
     "name": "stdout",
     "output_type": "stream",
     "text": [
      "{'o', 'e', 'l', 'h'}\n"
     ]
    }
   ],
   "source": [
    "# set and list comprehensions have the same syntax, only the brackets change - and the results! \n",
    "# (no duplicates in sets, no order)\n",
    "\n",
    "set_1 = {char for char in 'hello'}\n",
    "print(set_1)"
   ]
  },
  {
   "cell_type": "code",
   "execution_count": 79,
   "id": "557d8101",
   "metadata": {},
   "outputs": [
    {
     "name": "stdout",
     "output_type": "stream",
     "text": [
      "{'a': 25, 'b': 4}\n"
     ]
    }
   ],
   "source": [
    "# dict\n",
    "\n",
    "simple_dict = {\n",
    "    'a': 5,\n",
    "    'b': 2\n",
    "}\n",
    "\n",
    "dict_1 = {key:value**2 for key,value in simple_dict.items()}\n",
    "print(dict_1)"
   ]
  },
  {
   "cell_type": "code",
   "execution_count": 80,
   "id": "8bba4dae",
   "metadata": {},
   "outputs": [
    {
     "name": "stdout",
     "output_type": "stream",
     "text": [
      "{1: 101, 2: 102, 3: 103}\n"
     ]
    }
   ],
   "source": [
    "my_dict = {num:num+100 for num in [1,2,3]}\n",
    "print(my_dict)"
   ]
  },
  {
   "cell_type": "code",
   "execution_count": 81,
   "id": "c06f24c7",
   "metadata": {},
   "outputs": [
    {
     "name": "stdout",
     "output_type": "stream",
     "text": [
      "{'b', 'c'}\n"
     ]
    }
   ],
   "source": [
    "# Usage example: find duplicates with set comprehension\n",
    "\n",
    "some_list = ['a', 'b', 'c', 'b', 'f', 'c']\n",
    "\n",
    "duplicates = {item for item in some_list if some_list.count(item) > 1}\n",
    "print(duplicates)"
   ]
  },
  {
   "cell_type": "code",
   "execution_count": 82,
   "id": "9171df5f",
   "metadata": {},
   "outputs": [
    {
     "name": "stdout",
     "output_type": "stream",
     "text": [
      "orange black\n"
     ]
    }
   ],
   "source": [
    "x, y = 'orange', 'black'\n",
    "print(x,y)"
   ]
  },
  {
   "cell_type": "code",
   "execution_count": null,
   "id": "970c9704",
   "metadata": {},
   "outputs": [],
   "source": []
  }
 ],
 "metadata": {
  "kernelspec": {
   "display_name": "Python 3 (ipykernel)",
   "language": "python",
   "name": "python3"
  },
  "language_info": {
   "codemirror_mode": {
    "name": "ipython",
    "version": 3
   },
   "file_extension": ".py",
   "mimetype": "text/x-python",
   "name": "python",
   "nbconvert_exporter": "python",
   "pygments_lexer": "ipython3",
   "version": "3.9.7"
  }
 },
 "nbformat": 4,
 "nbformat_minor": 5
}
